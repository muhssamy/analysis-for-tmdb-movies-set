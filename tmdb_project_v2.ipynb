{
 "cells": [
  {
   "cell_type": "markdown",
   "id": "b9980f94-eb2f-491e-8e78-39dd9d7878a2",
   "metadata": {},
   "source": [
    "# introdution\n",
    "Here I will investigate TMDB data base for over 10000 movie, Hope to find a succsee formula for movies. Dose high budget movie has a higher chance ?\n",
    "or people have Favourable  geners ?  what is the charcterstics of movies having more revenue ?"
   ]
  },
  {
   "cell_type": "code",
   "execution_count": 146,
   "id": "9d5b9e7b-df02-4458-a04f-10feef7cf28b",
   "metadata": {},
   "outputs": [],
   "source": [
    "# imports \n",
    "import pandas as pd\n",
    "import numpy as np\n",
    "import matplotlib.pyplot as plt\n",
    "import seaborn as sns\n",
    "%matplotlib inline\n",
    "sns.set_style('darkgrid')"
   ]
  },
  {
   "cell_type": "code",
   "execution_count": 147,
   "id": "ea036c9c-435d-4eb8-a0cc-d596e0059f8a",
   "metadata": {},
   "outputs": [],
   "source": [
    "# adding some fuctions that shorten my work this function  will use pandas.DataFrame.query for selecting on certain condition then  plotting a bar chart\n",
    "def plotting_selection (x, y , x_label, y_label):\n",
    "    median = df['{}'.format(x)].median()\n",
    "    low = df.query('{} < {}'.format(x, median))\n",
    "    high = df.query('{} >= {}'.format(x,median))\n",
    "    mean_low = low['{}'.format(y)].mean()\n",
    "    mean_high = high['{}'.format(y)].mean()\n",
    "    locations = [1, 2]\n",
    "    heights = [mean_low, mean_high]\n",
    "    labels = ['{}'.format(x_label), '{}'.format(y_label)]\n",
    "    plt.bar(locations, heights, tick_label=labels)\n",
    "    return\n",
    "# x = dataFrame column name - str\n",
    "# y = dataFrame column name - str\n",
    "# x_label = label will be represented on x-axis-heights(1) of bar chart -str\n",
    "# y_label = label will be represented on x-axis-heights(2) of bar chart - str"
   ]
  },
  {
   "cell_type": "markdown",
   "id": "6f9ed5d8-faee-4fb0-a9f6-ab52391c0098",
   "metadata": {},
   "source": [
    "# Data wrangling \n",
    "here i will load my data and perform some checks for cleanliness, and then dataset for analysis."
   ]
  },
  {
   "cell_type": "code",
   "execution_count": 148,
   "id": "abf4b220-8a17-4b50-992d-5ff96d1e814b",
   "metadata": {},
   "outputs": [],
   "source": [
    "#loading csv file \n",
    "df = pd.read_csv('tmdb-movies.csv')"
   ]
  },
  {
   "cell_type": "code",
   "execution_count": 149,
   "id": "32b5d252-64dd-4111-b090-35be5a183ad6",
   "metadata": {},
   "outputs": [
    {
     "data": {
      "text/html": [
       "<div>\n",
       "<style scoped>\n",
       "    .dataframe tbody tr th:only-of-type {\n",
       "        vertical-align: middle;\n",
       "    }\n",
       "\n",
       "    .dataframe tbody tr th {\n",
       "        vertical-align: top;\n",
       "    }\n",
       "\n",
       "    .dataframe thead th {\n",
       "        text-align: right;\n",
       "    }\n",
       "</style>\n",
       "<table border=\"1\" class=\"dataframe\">\n",
       "  <thead>\n",
       "    <tr style=\"text-align: right;\">\n",
       "      <th></th>\n",
       "      <th>id</th>\n",
       "      <th>imdb_id</th>\n",
       "      <th>popularity</th>\n",
       "      <th>budget</th>\n",
       "      <th>revenue</th>\n",
       "      <th>original_title</th>\n",
       "      <th>cast</th>\n",
       "      <th>homepage</th>\n",
       "      <th>director</th>\n",
       "      <th>tagline</th>\n",
       "      <th>...</th>\n",
       "      <th>overview</th>\n",
       "      <th>runtime</th>\n",
       "      <th>genres</th>\n",
       "      <th>production_companies</th>\n",
       "      <th>release_date</th>\n",
       "      <th>vote_count</th>\n",
       "      <th>vote_average</th>\n",
       "      <th>release_year</th>\n",
       "      <th>budget_adj</th>\n",
       "      <th>revenue_adj</th>\n",
       "    </tr>\n",
       "  </thead>\n",
       "  <tbody>\n",
       "    <tr>\n",
       "      <th>0</th>\n",
       "      <td>135397</td>\n",
       "      <td>tt0369610</td>\n",
       "      <td>32.985763</td>\n",
       "      <td>150000000</td>\n",
       "      <td>1513528810</td>\n",
       "      <td>Jurassic World</td>\n",
       "      <td>Chris Pratt|Bryce Dallas Howard|Irrfan Khan|Vi...</td>\n",
       "      <td>http://www.jurassicworld.com/</td>\n",
       "      <td>Colin Trevorrow</td>\n",
       "      <td>The park is open.</td>\n",
       "      <td>...</td>\n",
       "      <td>Twenty-two years after the events of Jurassic ...</td>\n",
       "      <td>124</td>\n",
       "      <td>Action|Adventure|Science Fiction|Thriller</td>\n",
       "      <td>Universal Studios|Amblin Entertainment|Legenda...</td>\n",
       "      <td>6/9/15</td>\n",
       "      <td>5562</td>\n",
       "      <td>6.5</td>\n",
       "      <td>2015</td>\n",
       "      <td>1.379999e+08</td>\n",
       "      <td>1.392446e+09</td>\n",
       "    </tr>\n",
       "  </tbody>\n",
       "</table>\n",
       "<p>1 rows × 21 columns</p>\n",
       "</div>"
      ],
      "text/plain": [
       "       id    imdb_id  popularity     budget     revenue  original_title  \\\n",
       "0  135397  tt0369610   32.985763  150000000  1513528810  Jurassic World   \n",
       "\n",
       "                                                cast  \\\n",
       "0  Chris Pratt|Bryce Dallas Howard|Irrfan Khan|Vi...   \n",
       "\n",
       "                        homepage         director            tagline  ...  \\\n",
       "0  http://www.jurassicworld.com/  Colin Trevorrow  The park is open.  ...   \n",
       "\n",
       "                                            overview runtime  \\\n",
       "0  Twenty-two years after the events of Jurassic ...     124   \n",
       "\n",
       "                                      genres  \\\n",
       "0  Action|Adventure|Science Fiction|Thriller   \n",
       "\n",
       "                                production_companies release_date vote_count  \\\n",
       "0  Universal Studios|Amblin Entertainment|Legenda...       6/9/15       5562   \n",
       "\n",
       "   vote_average  release_year    budget_adj   revenue_adj  \n",
       "0           6.5          2015  1.379999e+08  1.392446e+09  \n",
       "\n",
       "[1 rows x 21 columns]"
      ]
     },
     "execution_count": 149,
     "metadata": {},
     "output_type": "execute_result"
    }
   ],
   "source": [
    "#see some data \n",
    "df.head(1)"
   ]
  },
  {
   "cell_type": "code",
   "execution_count": 150,
   "id": "210523c4-e3c6-404e-b850-dc6817fe060f",
   "metadata": {},
   "outputs": [
    {
     "data": {
      "text/plain": [
       "(10866, 21)"
      ]
     },
     "execution_count": 150,
     "metadata": {},
     "output_type": "execute_result"
    }
   ],
   "source": [
    "# know more about data\n",
    "\n",
    "df.shape"
   ]
  },
  {
   "cell_type": "code",
   "execution_count": 151,
   "id": "31b22ecd-629c-4d55-af65-2316f8583f5f",
   "metadata": {},
   "outputs": [
    {
     "name": "stdout",
     "output_type": "stream",
     "text": [
      "<class 'pandas.core.frame.DataFrame'>\n",
      "RangeIndex: 10866 entries, 0 to 10865\n",
      "Data columns (total 21 columns):\n",
      " #   Column                Non-Null Count  Dtype  \n",
      "---  ------                --------------  -----  \n",
      " 0   id                    10866 non-null  int64  \n",
      " 1   imdb_id               10856 non-null  object \n",
      " 2   popularity            10866 non-null  float64\n",
      " 3   budget                10866 non-null  int64  \n",
      " 4   revenue               10866 non-null  int64  \n",
      " 5   original_title        10866 non-null  object \n",
      " 6   cast                  10790 non-null  object \n",
      " 7   homepage              2936 non-null   object \n",
      " 8   director              10822 non-null  object \n",
      " 9   tagline               8042 non-null   object \n",
      " 10  keywords              9373 non-null   object \n",
      " 11  overview              10862 non-null  object \n",
      " 12  runtime               10866 non-null  int64  \n",
      " 13  genres                10843 non-null  object \n",
      " 14  production_companies  9836 non-null   object \n",
      " 15  release_date          10866 non-null  object \n",
      " 16  vote_count            10866 non-null  int64  \n",
      " 17  vote_average          10866 non-null  float64\n",
      " 18  release_year          10866 non-null  int64  \n",
      " 19  budget_adj            10866 non-null  float64\n",
      " 20  revenue_adj           10866 non-null  float64\n",
      "dtypes: float64(4), int64(6), object(11)\n",
      "memory usage: 1.7+ MB\n"
     ]
    }
   ],
   "source": [
    "df.info()\n"
   ]
  },
  {
   "cell_type": "code",
   "execution_count": 152,
   "id": "94339d58-b667-48de-a7dc-0d1a61391d18",
   "metadata": {},
   "outputs": [],
   "source": [
    "# first i will drop some columns i dont need in my analysis\n",
    "df.drop(['imdb_id', 'homepage', 'keywords', 'tagline', 'overview', 'release_date'], axis= 1, inplace= True)"
   ]
  },
  {
   "cell_type": "code",
   "execution_count": 153,
   "id": "6b5162ec-7dc6-4894-992b-5bb3cf2f2449",
   "metadata": {},
   "outputs": [
    {
     "data": {
      "text/html": [
       "<div>\n",
       "<style scoped>\n",
       "    .dataframe tbody tr th:only-of-type {\n",
       "        vertical-align: middle;\n",
       "    }\n",
       "\n",
       "    .dataframe tbody tr th {\n",
       "        vertical-align: top;\n",
       "    }\n",
       "\n",
       "    .dataframe thead th {\n",
       "        text-align: right;\n",
       "    }\n",
       "</style>\n",
       "<table border=\"1\" class=\"dataframe\">\n",
       "  <thead>\n",
       "    <tr style=\"text-align: right;\">\n",
       "      <th></th>\n",
       "      <th>id</th>\n",
       "      <th>popularity</th>\n",
       "      <th>budget</th>\n",
       "      <th>revenue</th>\n",
       "      <th>original_title</th>\n",
       "      <th>cast</th>\n",
       "      <th>director</th>\n",
       "      <th>runtime</th>\n",
       "      <th>genres</th>\n",
       "      <th>production_companies</th>\n",
       "      <th>vote_count</th>\n",
       "      <th>vote_average</th>\n",
       "      <th>release_year</th>\n",
       "      <th>budget_adj</th>\n",
       "      <th>revenue_adj</th>\n",
       "    </tr>\n",
       "  </thead>\n",
       "  <tbody>\n",
       "    <tr>\n",
       "      <th>10865</th>\n",
       "      <td>22293</td>\n",
       "      <td>0.035919</td>\n",
       "      <td>19000</td>\n",
       "      <td>0</td>\n",
       "      <td>Manos: The Hands of Fate</td>\n",
       "      <td>Harold P. Warren|Tom Neyman|John Reynolds|Dian...</td>\n",
       "      <td>Harold P. Warren</td>\n",
       "      <td>74</td>\n",
       "      <td>Horror</td>\n",
       "      <td>Norm-Iris</td>\n",
       "      <td>15</td>\n",
       "      <td>1.5</td>\n",
       "      <td>1966</td>\n",
       "      <td>127642.279154</td>\n",
       "      <td>0.0</td>\n",
       "    </tr>\n",
       "  </tbody>\n",
       "</table>\n",
       "</div>"
      ],
      "text/plain": [
       "          id  popularity  budget  revenue            original_title  \\\n",
       "10865  22293    0.035919   19000        0  Manos: The Hands of Fate   \n",
       "\n",
       "                                                    cast          director  \\\n",
       "10865  Harold P. Warren|Tom Neyman|John Reynolds|Dian...  Harold P. Warren   \n",
       "\n",
       "       runtime  genres production_companies  vote_count  vote_average  \\\n",
       "10865       74  Horror            Norm-Iris          15           1.5   \n",
       "\n",
       "       release_year     budget_adj  revenue_adj  \n",
       "10865          1966  127642.279154          0.0  "
      ]
     },
     "execution_count": 153,
     "metadata": {},
     "output_type": "execute_result"
    }
   ],
   "source": [
    "# re-check \n",
    "df.tail(1)"
   ]
  },
  {
   "cell_type": "code",
   "execution_count": 154,
   "id": "47eda559-eef6-44f1-bcf0-ef861f3f32fc",
   "metadata": {},
   "outputs": [
    {
     "data": {
      "text/plain": [
       "(10866, 15)"
      ]
     },
     "execution_count": 154,
     "metadata": {},
     "output_type": "execute_result"
    }
   ],
   "source": [
    "df.shape\n"
   ]
  },
  {
   "cell_type": "code",
   "execution_count": 155,
   "id": "40b54075-28f3-445b-bcdc-59336032883b",
   "metadata": {},
   "outputs": [],
   "source": [
    "# i saw some data have 0 value at revenue column i will delete them all as they will mislead me \n",
    "df.drop(df[df['revenue'] == 0].index, inplace = True)"
   ]
  },
  {
   "cell_type": "code",
   "execution_count": 156,
   "id": "656bdf8a-fe16-4936-81d0-93b4b9b9c3ee",
   "metadata": {},
   "outputs": [
    {
     "data": {
      "text/plain": [
       "(4850, 15)"
      ]
     },
     "execution_count": 156,
     "metadata": {},
     "output_type": "execute_result"
    }
   ],
   "source": [
    "df.shape"
   ]
  },
  {
   "cell_type": "code",
   "execution_count": 157,
   "id": "304e2af0-2fbf-41ba-8f52-f933456bd70f",
   "metadata": {},
   "outputs": [
    {
     "data": {
      "text/html": [
       "<div>\n",
       "<style scoped>\n",
       "    .dataframe tbody tr th:only-of-type {\n",
       "        vertical-align: middle;\n",
       "    }\n",
       "\n",
       "    .dataframe tbody tr th {\n",
       "        vertical-align: top;\n",
       "    }\n",
       "\n",
       "    .dataframe thead th {\n",
       "        text-align: right;\n",
       "    }\n",
       "</style>\n",
       "<table border=\"1\" class=\"dataframe\">\n",
       "  <thead>\n",
       "    <tr style=\"text-align: right;\">\n",
       "      <th></th>\n",
       "      <th>id</th>\n",
       "      <th>popularity</th>\n",
       "      <th>budget</th>\n",
       "      <th>revenue</th>\n",
       "      <th>original_title</th>\n",
       "      <th>cast</th>\n",
       "      <th>director</th>\n",
       "      <th>runtime</th>\n",
       "      <th>genres</th>\n",
       "      <th>production_companies</th>\n",
       "      <th>vote_count</th>\n",
       "      <th>vote_average</th>\n",
       "      <th>release_year</th>\n",
       "      <th>budget_adj</th>\n",
       "      <th>revenue_adj</th>\n",
       "    </tr>\n",
       "  </thead>\n",
       "  <tbody>\n",
       "  </tbody>\n",
       "</table>\n",
       "</div>"
      ],
      "text/plain": [
       "Empty DataFrame\n",
       "Columns: [id, popularity, budget, revenue, original_title, cast, director, runtime, genres, production_companies, vote_count, vote_average, release_year, budget_adj, revenue_adj]\n",
       "Index: []"
      ]
     },
     "execution_count": 157,
     "metadata": {},
     "output_type": "execute_result"
    }
   ],
   "source": [
    "#re-check if there 0 values \n",
    "df.query('revenue == 0')"
   ]
  },
  {
   "cell_type": "code",
   "execution_count": 158,
   "id": "e1eaa2de-f57a-4a60-938d-2b5029876933",
   "metadata": {},
   "outputs": [
    {
     "data": {
      "text/plain": [
       "1"
      ]
     },
     "execution_count": 158,
     "metadata": {},
     "output_type": "execute_result"
    }
   ],
   "source": [
    "#check for duplicates\n",
    "sum(df.duplicated())"
   ]
  },
  {
   "cell_type": "code",
   "execution_count": 159,
   "id": "fe0af447-8f53-4c6d-b765-3885b2f64d75",
   "metadata": {},
   "outputs": [],
   "source": [
    "#droping this duplicate\n",
    "df.drop_duplicates(inplace= True)"
   ]
  },
  {
   "cell_type": "code",
   "execution_count": 160,
   "id": "75a3bdf8-8026-4017-85c0-9032b572ad75",
   "metadata": {},
   "outputs": [
    {
     "data": {
      "text/plain": [
       "0"
      ]
     },
     "execution_count": 160,
     "metadata": {},
     "output_type": "execute_result"
    }
   ],
   "source": [
    "#re-check for duplicates\n",
    "sum(df.duplicated())"
   ]
  },
  {
   "cell_type": "code",
   "execution_count": 161,
   "id": "4c7173a6-0681-4ecd-b8da-fe56ecf3a2c1",
   "metadata": {},
   "outputs": [
    {
     "data": {
      "text/plain": [
       "id                       0\n",
       "popularity               0\n",
       "budget                   0\n",
       "revenue                  0\n",
       "original_title           0\n",
       "cast                     5\n",
       "director                 1\n",
       "runtime                  0\n",
       "genres                   0\n",
       "production_companies    96\n",
       "vote_count               0\n",
       "vote_average             0\n",
       "release_year             0\n",
       "budget_adj               0\n",
       "revenue_adj              0\n",
       "dtype: int64"
      ]
     },
     "execution_count": 161,
     "metadata": {},
     "output_type": "execute_result"
    }
   ],
   "source": [
    "#checking for nan-values\n",
    "df.isna().sum()\n"
   ]
  },
  {
   "cell_type": "code",
   "execution_count": 162,
   "id": "0f82a7df-19d7-4d7d-9743-ca1a8e43db5d",
   "metadata": {},
   "outputs": [],
   "source": [
    "#droping NAN values\n",
    "df.dropna(inplace= True)"
   ]
  },
  {
   "cell_type": "code",
   "execution_count": 163,
   "id": "a0b97cfa-bb19-4523-a76b-a89bf265822e",
   "metadata": {},
   "outputs": [
    {
     "data": {
      "text/plain": [
       "id                      0\n",
       "popularity              0\n",
       "budget                  0\n",
       "revenue                 0\n",
       "original_title          0\n",
       "cast                    0\n",
       "director                0\n",
       "runtime                 0\n",
       "genres                  0\n",
       "production_companies    0\n",
       "vote_count              0\n",
       "vote_average            0\n",
       "release_year            0\n",
       "budget_adj              0\n",
       "revenue_adj             0\n",
       "dtype: int64"
      ]
     },
     "execution_count": 163,
     "metadata": {},
     "output_type": "execute_result"
    }
   ],
   "source": [
    "#re-check \n",
    "df.isna().sum()"
   ]
  },
  {
   "cell_type": "code",
   "execution_count": 164,
   "id": "80cda3ce-9a91-449d-97a4-e5703248981e",
   "metadata": {},
   "outputs": [
    {
     "data": {
      "text/plain": [
       "(4750, 15)"
      ]
     },
     "execution_count": 164,
     "metadata": {},
     "output_type": "execute_result"
    }
   ],
   "source": [
    "df.shape"
   ]
  },
  {
   "cell_type": "code",
   "execution_count": 165,
   "id": "9082a031-9456-4b55-b95e-8d43b60865ef",
   "metadata": {},
   "outputs": [
    {
     "data": {
      "text/html": [
       "<div>\n",
       "<style scoped>\n",
       "    .dataframe tbody tr th:only-of-type {\n",
       "        vertical-align: middle;\n",
       "    }\n",
       "\n",
       "    .dataframe tbody tr th {\n",
       "        vertical-align: top;\n",
       "    }\n",
       "\n",
       "    .dataframe thead th {\n",
       "        text-align: right;\n",
       "    }\n",
       "</style>\n",
       "<table border=\"1\" class=\"dataframe\">\n",
       "  <thead>\n",
       "    <tr style=\"text-align: right;\">\n",
       "      <th></th>\n",
       "      <th>id</th>\n",
       "      <th>popularity</th>\n",
       "      <th>budget</th>\n",
       "      <th>revenue</th>\n",
       "      <th>original_title</th>\n",
       "      <th>cast</th>\n",
       "      <th>director</th>\n",
       "      <th>runtime</th>\n",
       "      <th>genres</th>\n",
       "      <th>production_companies</th>\n",
       "      <th>vote_count</th>\n",
       "      <th>vote_average</th>\n",
       "      <th>release_year</th>\n",
       "      <th>budget_adj</th>\n",
       "      <th>revenue_adj</th>\n",
       "    </tr>\n",
       "  </thead>\n",
       "  <tbody>\n",
       "    <tr>\n",
       "      <th>30</th>\n",
       "      <td>280996</td>\n",
       "      <td>3.927333</td>\n",
       "      <td>0</td>\n",
       "      <td>29355203</td>\n",
       "      <td>Mr. Holmes</td>\n",
       "      <td>Ian McKellen|Milo Parker|Laura Linney|Hattie M...</td>\n",
       "      <td>Bill Condon</td>\n",
       "      <td>103</td>\n",
       "      <td>Mystery|Drama</td>\n",
       "      <td>BBC Films|See-Saw Films|FilmNation Entertainme...</td>\n",
       "      <td>425</td>\n",
       "      <td>6.4</td>\n",
       "      <td>2015</td>\n",
       "      <td>0.0</td>\n",
       "      <td>2.700677e+07</td>\n",
       "    </tr>\n",
       "    <tr>\n",
       "      <th>36</th>\n",
       "      <td>339527</td>\n",
       "      <td>3.358321</td>\n",
       "      <td>0</td>\n",
       "      <td>22354572</td>\n",
       "      <td>Solace</td>\n",
       "      <td>Abbie Cornish|Jeffrey Dean Morgan|Colin Farrel...</td>\n",
       "      <td>Afonso Poyart</td>\n",
       "      <td>101</td>\n",
       "      <td>Crime|Drama|Mystery</td>\n",
       "      <td>Eden Rock Media|FilmNation Entertainment|Flynn...</td>\n",
       "      <td>474</td>\n",
       "      <td>6.2</td>\n",
       "      <td>2015</td>\n",
       "      <td>0.0</td>\n",
       "      <td>2.056620e+07</td>\n",
       "    </tr>\n",
       "    <tr>\n",
       "      <th>72</th>\n",
       "      <td>284289</td>\n",
       "      <td>2.272044</td>\n",
       "      <td>0</td>\n",
       "      <td>45895</td>\n",
       "      <td>Beyond the Reach</td>\n",
       "      <td>Michael Douglas|Jeremy Irvine|Hanna Mangan Law...</td>\n",
       "      <td>Jean-Baptiste LÃ©onetti</td>\n",
       "      <td>95</td>\n",
       "      <td>Thriller</td>\n",
       "      <td>Furthur Films</td>\n",
       "      <td>81</td>\n",
       "      <td>5.5</td>\n",
       "      <td>2015</td>\n",
       "      <td>0.0</td>\n",
       "      <td>4.222338e+04</td>\n",
       "    </tr>\n",
       "    <tr>\n",
       "      <th>88</th>\n",
       "      <td>301875</td>\n",
       "      <td>1.959765</td>\n",
       "      <td>0</td>\n",
       "      <td>2000000</td>\n",
       "      <td>Equals</td>\n",
       "      <td>Kristen Stewart|Nicholas Hoult|Guy Pearce|Jack...</td>\n",
       "      <td>Drake Doremus</td>\n",
       "      <td>101</td>\n",
       "      <td>Drama|Romance|Science Fiction</td>\n",
       "      <td>Scott Free Productions|Infinite Frameworks Stu...</td>\n",
       "      <td>135</td>\n",
       "      <td>5.6</td>\n",
       "      <td>2015</td>\n",
       "      <td>0.0</td>\n",
       "      <td>1.839999e+06</td>\n",
       "    </tr>\n",
       "    <tr>\n",
       "      <th>95</th>\n",
       "      <td>258509</td>\n",
       "      <td>1.841779</td>\n",
       "      <td>0</td>\n",
       "      <td>233755553</td>\n",
       "      <td>Alvin and the Chipmunks: The Road Chip</td>\n",
       "      <td>Jason Lee|Justin Long|Bella Thorne|Matthew Gra...</td>\n",
       "      <td>Walt Becker</td>\n",
       "      <td>92</td>\n",
       "      <td>Adventure|Animation|Comedy|Family</td>\n",
       "      <td>Regency Enterprises|Fox 2000 Pictures|Sunswept...</td>\n",
       "      <td>278</td>\n",
       "      <td>5.7</td>\n",
       "      <td>2015</td>\n",
       "      <td>0.0</td>\n",
       "      <td>2.150550e+08</td>\n",
       "    </tr>\n",
       "    <tr>\n",
       "      <th>...</th>\n",
       "      <td>...</td>\n",
       "      <td>...</td>\n",
       "      <td>...</td>\n",
       "      <td>...</td>\n",
       "      <td>...</td>\n",
       "      <td>...</td>\n",
       "      <td>...</td>\n",
       "      <td>...</td>\n",
       "      <td>...</td>\n",
       "      <td>...</td>\n",
       "      <td>...</td>\n",
       "      <td>...</td>\n",
       "      <td>...</td>\n",
       "      <td>...</td>\n",
       "      <td>...</td>\n",
       "    </tr>\n",
       "    <tr>\n",
       "      <th>10764</th>\n",
       "      <td>11455</td>\n",
       "      <td>0.608679</td>\n",
       "      <td>0</td>\n",
       "      <td>41590893</td>\n",
       "      <td>Up in Smoke</td>\n",
       "      <td>Cheech Marin|Tommy Chong|Strother Martin|Edie ...</td>\n",
       "      <td>Lou Adler</td>\n",
       "      <td>86</td>\n",
       "      <td>Comedy</td>\n",
       "      <td>Paramount Pictures</td>\n",
       "      <td>103</td>\n",
       "      <td>6.5</td>\n",
       "      <td>1978</td>\n",
       "      <td>0.0</td>\n",
       "      <td>1.390259e+08</td>\n",
       "    </tr>\n",
       "    <tr>\n",
       "      <th>10766</th>\n",
       "      <td>23916</td>\n",
       "      <td>0.591799</td>\n",
       "      <td>0</td>\n",
       "      <td>7185518</td>\n",
       "      <td>Paradise Alley</td>\n",
       "      <td>Sylvester Stallone|Lee Canalito|Armand Assante...</td>\n",
       "      <td>Sylvester Stallone</td>\n",
       "      <td>107</td>\n",
       "      <td>Action|Adventure|Drama</td>\n",
       "      <td>Image Ten</td>\n",
       "      <td>12</td>\n",
       "      <td>6.0</td>\n",
       "      <td>1978</td>\n",
       "      <td>0.0</td>\n",
       "      <td>2.401904e+07</td>\n",
       "    </tr>\n",
       "    <tr>\n",
       "      <th>10812</th>\n",
       "      <td>31948</td>\n",
       "      <td>0.318883</td>\n",
       "      <td>0</td>\n",
       "      <td>5438927</td>\n",
       "      <td>Gray Lady Down</td>\n",
       "      <td>Charlton Heston|David Carradine|Stacy Keach|Ne...</td>\n",
       "      <td>David Greene</td>\n",
       "      <td>111</td>\n",
       "      <td>Thriller|Adventure|History|Drama</td>\n",
       "      <td>Universal Pictures|The Mirisch Corporation</td>\n",
       "      <td>10</td>\n",
       "      <td>6.1</td>\n",
       "      <td>1978</td>\n",
       "      <td>0.0</td>\n",
       "      <td>1.818071e+07</td>\n",
       "    </tr>\n",
       "    <tr>\n",
       "      <th>10817</th>\n",
       "      <td>13963</td>\n",
       "      <td>0.064029</td>\n",
       "      <td>0</td>\n",
       "      <td>321952</td>\n",
       "      <td>The Last Waltz</td>\n",
       "      <td>Robbie Robertson|Rick Danko|Levon Helm|Richard...</td>\n",
       "      <td>Martin Scorsese</td>\n",
       "      <td>117</td>\n",
       "      <td>Documentary|Music</td>\n",
       "      <td>FM Productions|Last Waltz Inc.</td>\n",
       "      <td>33</td>\n",
       "      <td>8.0</td>\n",
       "      <td>1978</td>\n",
       "      <td>0.0</td>\n",
       "      <td>1.076189e+06</td>\n",
       "    </tr>\n",
       "    <tr>\n",
       "      <th>10819</th>\n",
       "      <td>16214</td>\n",
       "      <td>0.044675</td>\n",
       "      <td>0</td>\n",
       "      <td>78000000</td>\n",
       "      <td>Hooper</td>\n",
       "      <td>Burt Reynolds|Robert Klein|Adam West|Jan-Micha...</td>\n",
       "      <td>Hal Needham</td>\n",
       "      <td>107</td>\n",
       "      <td>Action|Comedy</td>\n",
       "      <td>Warner Bros.</td>\n",
       "      <td>13</td>\n",
       "      <td>6.0</td>\n",
       "      <td>1978</td>\n",
       "      <td>0.0</td>\n",
       "      <td>2.607307e+08</td>\n",
       "    </tr>\n",
       "  </tbody>\n",
       "</table>\n",
       "<p>945 rows × 15 columns</p>\n",
       "</div>"
      ],
      "text/plain": [
       "           id  popularity  budget    revenue  \\\n",
       "30     280996    3.927333       0   29355203   \n",
       "36     339527    3.358321       0   22354572   \n",
       "72     284289    2.272044       0      45895   \n",
       "88     301875    1.959765       0    2000000   \n",
       "95     258509    1.841779       0  233755553   \n",
       "...       ...         ...     ...        ...   \n",
       "10764   11455    0.608679       0   41590893   \n",
       "10766   23916    0.591799       0    7185518   \n",
       "10812   31948    0.318883       0    5438927   \n",
       "10817   13963    0.064029       0     321952   \n",
       "10819   16214    0.044675       0   78000000   \n",
       "\n",
       "                               original_title  \\\n",
       "30                                 Mr. Holmes   \n",
       "36                                     Solace   \n",
       "72                           Beyond the Reach   \n",
       "88                                     Equals   \n",
       "95     Alvin and the Chipmunks: The Road Chip   \n",
       "...                                       ...   \n",
       "10764                             Up in Smoke   \n",
       "10766                          Paradise Alley   \n",
       "10812                          Gray Lady Down   \n",
       "10817                          The Last Waltz   \n",
       "10819                                  Hooper   \n",
       "\n",
       "                                                    cast  \\\n",
       "30     Ian McKellen|Milo Parker|Laura Linney|Hattie M...   \n",
       "36     Abbie Cornish|Jeffrey Dean Morgan|Colin Farrel...   \n",
       "72     Michael Douglas|Jeremy Irvine|Hanna Mangan Law...   \n",
       "88     Kristen Stewart|Nicholas Hoult|Guy Pearce|Jack...   \n",
       "95     Jason Lee|Justin Long|Bella Thorne|Matthew Gra...   \n",
       "...                                                  ...   \n",
       "10764  Cheech Marin|Tommy Chong|Strother Martin|Edie ...   \n",
       "10766  Sylvester Stallone|Lee Canalito|Armand Assante...   \n",
       "10812  Charlton Heston|David Carradine|Stacy Keach|Ne...   \n",
       "10817  Robbie Robertson|Rick Danko|Levon Helm|Richard...   \n",
       "10819  Burt Reynolds|Robert Klein|Adam West|Jan-Micha...   \n",
       "\n",
       "                      director  runtime                             genres  \\\n",
       "30                 Bill Condon      103                      Mystery|Drama   \n",
       "36               Afonso Poyart      101                Crime|Drama|Mystery   \n",
       "72     Jean-Baptiste LÃ©onetti       95                           Thriller   \n",
       "88               Drake Doremus      101      Drama|Romance|Science Fiction   \n",
       "95                 Walt Becker       92  Adventure|Animation|Comedy|Family   \n",
       "...                        ...      ...                                ...   \n",
       "10764                Lou Adler       86                             Comedy   \n",
       "10766       Sylvester Stallone      107             Action|Adventure|Drama   \n",
       "10812             David Greene      111   Thriller|Adventure|History|Drama   \n",
       "10817          Martin Scorsese      117                  Documentary|Music   \n",
       "10819              Hal Needham      107                      Action|Comedy   \n",
       "\n",
       "                                    production_companies  vote_count  \\\n",
       "30     BBC Films|See-Saw Films|FilmNation Entertainme...         425   \n",
       "36     Eden Rock Media|FilmNation Entertainment|Flynn...         474   \n",
       "72                                         Furthur Films          81   \n",
       "88     Scott Free Productions|Infinite Frameworks Stu...         135   \n",
       "95     Regency Enterprises|Fox 2000 Pictures|Sunswept...         278   \n",
       "...                                                  ...         ...   \n",
       "10764                                 Paramount Pictures         103   \n",
       "10766                                          Image Ten          12   \n",
       "10812         Universal Pictures|The Mirisch Corporation          10   \n",
       "10817                     FM Productions|Last Waltz Inc.          33   \n",
       "10819                                       Warner Bros.          13   \n",
       "\n",
       "       vote_average  release_year  budget_adj   revenue_adj  \n",
       "30              6.4          2015         0.0  2.700677e+07  \n",
       "36              6.2          2015         0.0  2.056620e+07  \n",
       "72              5.5          2015         0.0  4.222338e+04  \n",
       "88              5.6          2015         0.0  1.839999e+06  \n",
       "95              5.7          2015         0.0  2.150550e+08  \n",
       "...             ...           ...         ...           ...  \n",
       "10764           6.5          1978         0.0  1.390259e+08  \n",
       "10766           6.0          1978         0.0  2.401904e+07  \n",
       "10812           6.1          1978         0.0  1.818071e+07  \n",
       "10817           8.0          1978         0.0  1.076189e+06  \n",
       "10819           6.0          1978         0.0  2.607307e+08  \n",
       "\n",
       "[945 rows x 15 columns]"
      ]
     },
     "execution_count": 165,
     "metadata": {},
     "output_type": "execute_result"
    }
   ],
   "source": [
    "# see budget has 0 value\n",
    "df.query('budget == 0')\n"
   ]
  },
  {
   "cell_type": "code",
   "execution_count": 166,
   "id": "4e70348b-1b11-4de5-8513-65c824e45ac8",
   "metadata": {},
   "outputs": [],
   "source": [
    "#droping\n",
    "df.drop(df[df['budget'] == 0].index, inplace = True)"
   ]
  },
  {
   "cell_type": "code",
   "execution_count": 167,
   "id": "f511b86b-9942-4a1e-bad0-d00c288bd8e2",
   "metadata": {},
   "outputs": [
    {
     "data": {
      "text/plain": [
       "(3805, 15)"
      ]
     },
     "execution_count": 167,
     "metadata": {},
     "output_type": "execute_result"
    }
   ],
   "source": [
    "df.shape"
   ]
  },
  {
   "cell_type": "code",
   "execution_count": 168,
   "id": "31d84086-d7e5-4635-8f07-91c5bef8cdca",
   "metadata": {},
   "outputs": [],
   "source": [
    "#we have numbers in millions that is dificult to read lits simplify it\n",
    "large_numbers_columns = ['budget', 'revenue', 'budget_adj', 'revenue_adj']\n",
    "for c in large_numbers_columns:\n",
    "    df[c] = df[c].apply(lambda x : x/1000000)\n",
    "    df[c] = df[c].round(3)"
   ]
  },
  {
   "cell_type": "code",
   "execution_count": 169,
   "id": "f875a2ee-4ef7-4393-a369-4b9c89f890d2",
   "metadata": {},
   "outputs": [
    {
     "data": {
      "text/html": [
       "<div>\n",
       "<style scoped>\n",
       "    .dataframe tbody tr th:only-of-type {\n",
       "        vertical-align: middle;\n",
       "    }\n",
       "\n",
       "    .dataframe tbody tr th {\n",
       "        vertical-align: top;\n",
       "    }\n",
       "\n",
       "    .dataframe thead th {\n",
       "        text-align: right;\n",
       "    }\n",
       "</style>\n",
       "<table border=\"1\" class=\"dataframe\">\n",
       "  <thead>\n",
       "    <tr style=\"text-align: right;\">\n",
       "      <th></th>\n",
       "      <th>id</th>\n",
       "      <th>popularity</th>\n",
       "      <th>budget</th>\n",
       "      <th>revenue</th>\n",
       "      <th>original_title</th>\n",
       "      <th>cast</th>\n",
       "      <th>director</th>\n",
       "      <th>runtime</th>\n",
       "      <th>genres</th>\n",
       "      <th>production_companies</th>\n",
       "      <th>vote_count</th>\n",
       "      <th>vote_average</th>\n",
       "      <th>release_year</th>\n",
       "      <th>budget_adj</th>\n",
       "      <th>revenue_adj</th>\n",
       "    </tr>\n",
       "  </thead>\n",
       "  <tbody>\n",
       "    <tr>\n",
       "      <th>0</th>\n",
       "      <td>135397</td>\n",
       "      <td>32.985763</td>\n",
       "      <td>150.0</td>\n",
       "      <td>1513.529</td>\n",
       "      <td>Jurassic World</td>\n",
       "      <td>Chris Pratt|Bryce Dallas Howard|Irrfan Khan|Vi...</td>\n",
       "      <td>Colin Trevorrow</td>\n",
       "      <td>124</td>\n",
       "      <td>Action|Adventure|Science Fiction|Thriller</td>\n",
       "      <td>Universal Studios|Amblin Entertainment|Legenda...</td>\n",
       "      <td>5562</td>\n",
       "      <td>6.5</td>\n",
       "      <td>2015</td>\n",
       "      <td>138.0</td>\n",
       "      <td>1392.446</td>\n",
       "    </tr>\n",
       "  </tbody>\n",
       "</table>\n",
       "</div>"
      ],
      "text/plain": [
       "       id  popularity  budget   revenue  original_title  \\\n",
       "0  135397   32.985763   150.0  1513.529  Jurassic World   \n",
       "\n",
       "                                                cast         director  \\\n",
       "0  Chris Pratt|Bryce Dallas Howard|Irrfan Khan|Vi...  Colin Trevorrow   \n",
       "\n",
       "   runtime                                     genres  \\\n",
       "0      124  Action|Adventure|Science Fiction|Thriller   \n",
       "\n",
       "                                production_companies  vote_count  \\\n",
       "0  Universal Studios|Amblin Entertainment|Legenda...        5562   \n",
       "\n",
       "   vote_average  release_year  budget_adj  revenue_adj  \n",
       "0           6.5          2015       138.0     1392.446  "
      ]
     },
     "execution_count": 169,
     "metadata": {},
     "output_type": "execute_result"
    }
   ],
   "source": [
    "df.head(1)"
   ]
  },
  {
   "cell_type": "code",
   "execution_count": 170,
   "id": "1f0aa2f8-691a-4bba-a9cc-b5f7b7a08c65",
   "metadata": {},
   "outputs": [
    {
     "data": {
      "text/html": [
       "<div>\n",
       "<style scoped>\n",
       "    .dataframe tbody tr th:only-of-type {\n",
       "        vertical-align: middle;\n",
       "    }\n",
       "\n",
       "    .dataframe tbody tr th {\n",
       "        vertical-align: top;\n",
       "    }\n",
       "\n",
       "    .dataframe thead th {\n",
       "        text-align: right;\n",
       "    }\n",
       "</style>\n",
       "<table border=\"1\" class=\"dataframe\">\n",
       "  <thead>\n",
       "    <tr style=\"text-align: right;\">\n",
       "      <th></th>\n",
       "      <th>id</th>\n",
       "      <th>popularity</th>\n",
       "      <th>budget</th>\n",
       "      <th>revenue</th>\n",
       "      <th>original_title</th>\n",
       "      <th>cast</th>\n",
       "      <th>director</th>\n",
       "      <th>runtime</th>\n",
       "      <th>genres</th>\n",
       "      <th>production_companies</th>\n",
       "      <th>vote_count</th>\n",
       "      <th>vote_average</th>\n",
       "      <th>release_year</th>\n",
       "      <th>budget_adj</th>\n",
       "      <th>revenue_adj</th>\n",
       "    </tr>\n",
       "  </thead>\n",
       "  <tbody>\n",
       "    <tr>\n",
       "      <th>0</th>\n",
       "      <td>135397</td>\n",
       "      <td>32.985763</td>\n",
       "      <td>150.0</td>\n",
       "      <td>1513.529</td>\n",
       "      <td>Jurassic World</td>\n",
       "      <td>[Chris Pratt, Bryce Dallas Howard, Irrfan Khan...</td>\n",
       "      <td>Colin Trevorrow</td>\n",
       "      <td>124</td>\n",
       "      <td>[Action, Adventure, Science Fiction, Thriller]</td>\n",
       "      <td>[Universal Studios, Amblin Entertainment, Lege...</td>\n",
       "      <td>5562</td>\n",
       "      <td>6.5</td>\n",
       "      <td>2015</td>\n",
       "      <td>138.0</td>\n",
       "      <td>1392.446</td>\n",
       "    </tr>\n",
       "  </tbody>\n",
       "</table>\n",
       "</div>"
      ],
      "text/plain": [
       "       id  popularity  budget   revenue  original_title  \\\n",
       "0  135397   32.985763   150.0  1513.529  Jurassic World   \n",
       "\n",
       "                                                cast         director  \\\n",
       "0  [Chris Pratt, Bryce Dallas Howard, Irrfan Khan...  Colin Trevorrow   \n",
       "\n",
       "   runtime                                          genres  \\\n",
       "0      124  [Action, Adventure, Science Fiction, Thriller]   \n",
       "\n",
       "                                production_companies  vote_count  \\\n",
       "0  [Universal Studios, Amblin Entertainment, Lege...        5562   \n",
       "\n",
       "   vote_average  release_year  budget_adj  revenue_adj  \n",
       "0           6.5          2015       138.0     1392.446  "
      ]
     },
     "execution_count": 170,
     "metadata": {},
     "output_type": "execute_result"
    }
   ],
   "source": [
    "# some columns has \"|\" character in its value \n",
    "col = ['cast', 'genres', 'production_companies']\n",
    "for co in col:\n",
    "    df[co]= df[co].str.split('|')\n",
    "df.head(1)"
   ]
  },
  {
   "cell_type": "markdown",
   "id": "12a577dd-35dc-46aa-ac43-896969d5d301",
   "metadata": {},
   "source": [
    "# Exploratory Data Analysis"
   ]
  },
  {
   "cell_type": "code",
   "execution_count": 171,
   "id": "fa34fb33-4e43-4006-a1e6-e52b8d405da3",
   "metadata": {},
   "outputs": [
    {
     "data": {
      "text/html": [
       "<div>\n",
       "<style scoped>\n",
       "    .dataframe tbody tr th:only-of-type {\n",
       "        vertical-align: middle;\n",
       "    }\n",
       "\n",
       "    .dataframe tbody tr th {\n",
       "        vertical-align: top;\n",
       "    }\n",
       "\n",
       "    .dataframe thead th {\n",
       "        text-align: right;\n",
       "    }\n",
       "</style>\n",
       "<table border=\"1\" class=\"dataframe\">\n",
       "  <thead>\n",
       "    <tr style=\"text-align: right;\">\n",
       "      <th></th>\n",
       "      <th>id</th>\n",
       "      <th>popularity</th>\n",
       "      <th>budget</th>\n",
       "      <th>revenue</th>\n",
       "      <th>runtime</th>\n",
       "      <th>vote_count</th>\n",
       "      <th>vote_average</th>\n",
       "      <th>release_year</th>\n",
       "      <th>budget_adj</th>\n",
       "      <th>revenue_adj</th>\n",
       "    </tr>\n",
       "  </thead>\n",
       "  <tbody>\n",
       "    <tr>\n",
       "      <th>count</th>\n",
       "      <td>3805.000000</td>\n",
       "      <td>3805.000000</td>\n",
       "      <td>3805.000000</td>\n",
       "      <td>3805.000000</td>\n",
       "      <td>3805.000000</td>\n",
       "      <td>3805.000000</td>\n",
       "      <td>3805.000000</td>\n",
       "      <td>3805.000000</td>\n",
       "      <td>3805.000000</td>\n",
       "      <td>3805.000000</td>\n",
       "    </tr>\n",
       "    <tr>\n",
       "      <th>mean</th>\n",
       "      <td>40040.372668</td>\n",
       "      <td>1.203784</td>\n",
       "      <td>37.607997</td>\n",
       "      <td>108.973387</td>\n",
       "      <td>109.351117</td>\n",
       "      <td>534.159001</td>\n",
       "      <td>6.170565</td>\n",
       "      <td>2001.229172</td>\n",
       "      <td>44.719757</td>\n",
       "      <td>138.715932</td>\n",
       "    </tr>\n",
       "    <tr>\n",
       "      <th>std</th>\n",
       "      <td>67585.708616</td>\n",
       "      <td>1.480569</td>\n",
       "      <td>42.321791</td>\n",
       "      <td>177.297597</td>\n",
       "      <td>19.845678</td>\n",
       "      <td>883.757588</td>\n",
       "      <td>0.792437</td>\n",
       "      <td>11.329616</td>\n",
       "      <td>44.886979</td>\n",
       "      <td>216.997314</td>\n",
       "    </tr>\n",
       "    <tr>\n",
       "      <th>min</th>\n",
       "      <td>5.000000</td>\n",
       "      <td>0.010335</td>\n",
       "      <td>0.000000</td>\n",
       "      <td>0.000000</td>\n",
       "      <td>15.000000</td>\n",
       "      <td>10.000000</td>\n",
       "      <td>2.200000</td>\n",
       "      <td>1960.000000</td>\n",
       "      <td>0.000000</td>\n",
       "      <td>0.000000</td>\n",
       "    </tr>\n",
       "    <tr>\n",
       "      <th>25%</th>\n",
       "      <td>5925.000000</td>\n",
       "      <td>0.470651</td>\n",
       "      <td>10.000000</td>\n",
       "      <td>14.334000</td>\n",
       "      <td>96.000000</td>\n",
       "      <td>74.000000</td>\n",
       "      <td>5.700000</td>\n",
       "      <td>1995.000000</td>\n",
       "      <td>13.546000</td>\n",
       "      <td>19.254000</td>\n",
       "    </tr>\n",
       "    <tr>\n",
       "      <th>50%</th>\n",
       "      <td>11253.000000</td>\n",
       "      <td>0.810805</td>\n",
       "      <td>25.000000</td>\n",
       "      <td>46.217000</td>\n",
       "      <td>106.000000</td>\n",
       "      <td>209.000000</td>\n",
       "      <td>6.200000</td>\n",
       "      <td>2004.000000</td>\n",
       "      <td>30.384000</td>\n",
       "      <td>62.847000</td>\n",
       "    </tr>\n",
       "    <tr>\n",
       "      <th>75%</th>\n",
       "      <td>38579.000000</td>\n",
       "      <td>1.387163</td>\n",
       "      <td>50.000000</td>\n",
       "      <td>126.070000</td>\n",
       "      <td>119.000000</td>\n",
       "      <td>584.000000</td>\n",
       "      <td>6.700000</td>\n",
       "      <td>2010.000000</td>\n",
       "      <td>60.842000</td>\n",
       "      <td>165.805000</td>\n",
       "    </tr>\n",
       "    <tr>\n",
       "      <th>max</th>\n",
       "      <td>417859.000000</td>\n",
       "      <td>32.985763</td>\n",
       "      <td>425.000000</td>\n",
       "      <td>2781.506000</td>\n",
       "      <td>338.000000</td>\n",
       "      <td>9767.000000</td>\n",
       "      <td>8.400000</td>\n",
       "      <td>2015.000000</td>\n",
       "      <td>425.000000</td>\n",
       "      <td>2827.124000</td>\n",
       "    </tr>\n",
       "  </tbody>\n",
       "</table>\n",
       "</div>"
      ],
      "text/plain": [
       "                  id   popularity       budget      revenue      runtime  \\\n",
       "count    3805.000000  3805.000000  3805.000000  3805.000000  3805.000000   \n",
       "mean    40040.372668     1.203784    37.607997   108.973387   109.351117   \n",
       "std     67585.708616     1.480569    42.321791   177.297597    19.845678   \n",
       "min         5.000000     0.010335     0.000000     0.000000    15.000000   \n",
       "25%      5925.000000     0.470651    10.000000    14.334000    96.000000   \n",
       "50%     11253.000000     0.810805    25.000000    46.217000   106.000000   \n",
       "75%     38579.000000     1.387163    50.000000   126.070000   119.000000   \n",
       "max    417859.000000    32.985763   425.000000  2781.506000   338.000000   \n",
       "\n",
       "        vote_count  vote_average  release_year   budget_adj  revenue_adj  \n",
       "count  3805.000000   3805.000000   3805.000000  3805.000000  3805.000000  \n",
       "mean    534.159001      6.170565   2001.229172    44.719757   138.715932  \n",
       "std     883.757588      0.792437     11.329616    44.886979   216.997314  \n",
       "min      10.000000      2.200000   1960.000000     0.000000     0.000000  \n",
       "25%      74.000000      5.700000   1995.000000    13.546000    19.254000  \n",
       "50%     209.000000      6.200000   2004.000000    30.384000    62.847000  \n",
       "75%     584.000000      6.700000   2010.000000    60.842000   165.805000  \n",
       "max    9767.000000      8.400000   2015.000000   425.000000  2827.124000  "
      ]
     },
     "execution_count": 171,
     "metadata": {},
     "output_type": "execute_result"
    }
   ],
   "source": [
    "# lets know more about data statistics\n",
    "df.describe()"
   ]
  },
  {
   "cell_type": "code",
   "execution_count": 172,
   "id": "03ebe841-6618-4853-b151-99ff52d36760",
   "metadata": {},
   "outputs": [
    {
     "data": {
      "image/png": "[encoded data removed]",
      "text/plain": [
       "<Figure size 720x720 with 12 Axes>"
      ]
     },
     "metadata": {},
     "output_type": "display_data"
    }
   ],
   "source": [
    "df.hist(figsize= (10,10));"
   ]
  },
  {
   "cell_type": "markdown",
   "id": "349c4c41-b011-4406-b245-97d8f3039ddc",
   "metadata": {},
   "source": [
    "## is there in correlation between high vote average and high revenue ?\n",
    "As shown below on the graph. ***yes***, it seems that higher revenue movies has a high voting average. "
   ]
  },
  {
   "cell_type": "code",
   "execution_count": 173,
   "id": "e6f4db2e-c7bf-47cf-84a0-4c86b6c45aeb",
   "metadata": {},
   "outputs": [
    {
     "data": {
      "image/png": "[encoded data removed]",
      "text/plain": [
       "<Figure size 432x288 with 1 Axes>"
      ]
     },
     "metadata": {},
     "output_type": "display_data"
    }
   ],
   "source": [
    "plotting_selection('vote_average', 'revenue', 'Low', 'Heigh')\n",
    "\n",
    "# Adding some details\n",
    "plt.title('Average voteings by revenue')\n",
    "plt.ylabel('revenue')\n",
    "plt.xlabel('Average voting');"
   ]
  },
  {
   "cell_type": "markdown",
   "id": "9078c919-a6c5-4178-b743-4d5838204ca4",
   "metadata": {},
   "source": [
    "## is there in correlation between high budget and high revenue ?\n",
    "As shown below on the graph. yes, it seems that higher revenue movies has a higher budget."
   ]
  },
  {
   "cell_type": "code",
   "execution_count": 174,
   "id": "2466855b-6736-48db-9e57-59756dab7861",
   "metadata": {},
   "outputs": [
    {
     "data": {
      "image/png": "[encoded data removed]",
      "text/plain": [
       "<Figure size 432x288 with 1 Axes>"
      ]
     },
     "metadata": {},
     "output_type": "display_data"
    }
   ],
   "source": [
    "plotting_selection('budget', 'revenue_adj', 'Low budget', 'High budget')\n",
    "#adding details to bar chart\n",
    "plt.title('Average budget by revenue (fig 2)')\n",
    "plt.ylabel('revenue_adj')\n",
    "plt.xlabel('Average budget');"
   ]
  },
  {
   "cell_type": "markdown",
   "id": "b4a48d50-1889-41ba-8649-032ccff4cae0",
   "metadata": {},
   "source": [
    "## What kinds of properties are associated with movies that have high revenues?\n",
    "from this simple Statics i will here focus on 25% and 75% as the majorty of this data fall here. so we can see that higher revenue movies seems to be released betwwen 1994 & 2010. and they earn voting average between 5.9 to 7."
   ]
  },
  {
   "cell_type": "code",
   "execution_count": 175,
   "id": "8307b453-cb95-4717-a7f8-fe012375ce97",
   "metadata": {},
   "outputs": [
    {
     "data": {
      "text/html": [
       "<div>\n",
       "<style scoped>\n",
       "    .dataframe tbody tr th:only-of-type {\n",
       "        vertical-align: middle;\n",
       "    }\n",
       "\n",
       "    .dataframe tbody tr th {\n",
       "        vertical-align: top;\n",
       "    }\n",
       "\n",
       "    .dataframe thead th {\n",
       "        text-align: right;\n",
       "    }\n",
       "</style>\n",
       "<table border=\"1\" class=\"dataframe\">\n",
       "  <thead>\n",
       "    <tr style=\"text-align: right;\">\n",
       "      <th></th>\n",
       "      <th>id</th>\n",
       "      <th>popularity</th>\n",
       "      <th>budget</th>\n",
       "      <th>revenue</th>\n",
       "      <th>runtime</th>\n",
       "      <th>vote_count</th>\n",
       "      <th>vote_average</th>\n",
       "      <th>release_year</th>\n",
       "      <th>budget_adj</th>\n",
       "      <th>revenue_adj</th>\n",
       "    </tr>\n",
       "  </thead>\n",
       "  <tbody>\n",
       "    <tr>\n",
       "      <th>count</th>\n",
       "      <td>1109.000000</td>\n",
       "      <td>1109.000000</td>\n",
       "      <td>1109.000000</td>\n",
       "      <td>1109.000000</td>\n",
       "      <td>1109.000000</td>\n",
       "      <td>1109.000000</td>\n",
       "      <td>1109.000000</td>\n",
       "      <td>1109.000000</td>\n",
       "      <td>1109.000000</td>\n",
       "      <td>1109.000000</td>\n",
       "    </tr>\n",
       "    <tr>\n",
       "      <th>mean</th>\n",
       "      <td>29515.623986</td>\n",
       "      <td>2.135908</td>\n",
       "      <td>70.694974</td>\n",
       "      <td>287.409658</td>\n",
       "      <td>116.647430</td>\n",
       "      <td>1201.192065</td>\n",
       "      <td>6.432101</td>\n",
       "      <td>1999.752029</td>\n",
       "      <td>82.663308</td>\n",
       "      <td>369.613230</td>\n",
       "    </tr>\n",
       "    <tr>\n",
       "      <th>std</th>\n",
       "      <td>55246.826339</td>\n",
       "      <td>2.218869</td>\n",
       "      <td>56.528811</td>\n",
       "      <td>245.310979</td>\n",
       "      <td>22.464837</td>\n",
       "      <td>1297.990177</td>\n",
       "      <td>0.719705</td>\n",
       "      <td>12.444853</td>\n",
       "      <td>55.141697</td>\n",
       "      <td>287.800565</td>\n",
       "    </tr>\n",
       "    <tr>\n",
       "      <th>min</th>\n",
       "      <td>11.000000</td>\n",
       "      <td>0.131526</td>\n",
       "      <td>0.000000</td>\n",
       "      <td>25.000000</td>\n",
       "      <td>69.000000</td>\n",
       "      <td>13.000000</td>\n",
       "      <td>4.100000</td>\n",
       "      <td>1960.000000</td>\n",
       "      <td>0.000000</td>\n",
       "      <td>138.781000</td>\n",
       "    </tr>\n",
       "    <tr>\n",
       "      <th>25%</th>\n",
       "      <td>1265.000000</td>\n",
       "      <td>1.011546</td>\n",
       "      <td>27.000000</td>\n",
       "      <td>149.045000</td>\n",
       "      <td>100.000000</td>\n",
       "      <td>332.000000</td>\n",
       "      <td>5.900000</td>\n",
       "      <td>1994.000000</td>\n",
       "      <td>39.720000</td>\n",
       "      <td>188.297000</td>\n",
       "    </tr>\n",
       "    <tr>\n",
       "      <th>50%</th>\n",
       "      <td>9268.000000</td>\n",
       "      <td>1.588457</td>\n",
       "      <td>60.000000</td>\n",
       "      <td>209.947000</td>\n",
       "      <td>114.000000</td>\n",
       "      <td>728.000000</td>\n",
       "      <td>6.400000</td>\n",
       "      <td>2003.000000</td>\n",
       "      <td>73.011000</td>\n",
       "      <td>269.859000</td>\n",
       "    </tr>\n",
       "    <tr>\n",
       "      <th>75%</th>\n",
       "      <td>24428.000000</td>\n",
       "      <td>2.523173</td>\n",
       "      <td>100.000000</td>\n",
       "      <td>347.326000</td>\n",
       "      <td>130.000000</td>\n",
       "      <td>1611.000000</td>\n",
       "      <td>7.000000</td>\n",
       "      <td>2010.000000</td>\n",
       "      <td>113.969000</td>\n",
       "      <td>440.960000</td>\n",
       "    </tr>\n",
       "    <tr>\n",
       "      <th>max</th>\n",
       "      <td>417859.000000</td>\n",
       "      <td>32.985763</td>\n",
       "      <td>380.000000</td>\n",
       "      <td>2781.506000</td>\n",
       "      <td>248.000000</td>\n",
       "      <td>9767.000000</td>\n",
       "      <td>8.300000</td>\n",
       "      <td>2015.000000</td>\n",
       "      <td>368.371000</td>\n",
       "      <td>2827.124000</td>\n",
       "    </tr>\n",
       "  </tbody>\n",
       "</table>\n",
       "</div>"
      ],
      "text/plain": [
       "                  id   popularity       budget      revenue      runtime  \\\n",
       "count    1109.000000  1109.000000  1109.000000  1109.000000  1109.000000   \n",
       "mean    29515.623986     2.135908    70.694974   287.409658   116.647430   \n",
       "std     55246.826339     2.218869    56.528811   245.310979    22.464837   \n",
       "min        11.000000     0.131526     0.000000    25.000000    69.000000   \n",
       "25%      1265.000000     1.011546    27.000000   149.045000   100.000000   \n",
       "50%      9268.000000     1.588457    60.000000   209.947000   114.000000   \n",
       "75%     24428.000000     2.523173   100.000000   347.326000   130.000000   \n",
       "max    417859.000000    32.985763   380.000000  2781.506000   248.000000   \n",
       "\n",
       "        vote_count  vote_average  release_year   budget_adj  revenue_adj  \n",
       "count  1109.000000   1109.000000   1109.000000  1109.000000  1109.000000  \n",
       "mean   1201.192065      6.432101   1999.752029    82.663308   369.613230  \n",
       "std    1297.990177      0.719705     12.444853    55.141697   287.800565  \n",
       "min      13.000000      4.100000   1960.000000     0.000000   138.781000  \n",
       "25%     332.000000      5.900000   1994.000000    39.720000   188.297000  \n",
       "50%     728.000000      6.400000   2003.000000    73.011000   269.859000  \n",
       "75%    1611.000000      7.000000   2010.000000   113.969000   440.960000  \n",
       "max    9767.000000      8.300000   2015.000000   368.371000  2827.124000  "
      ]
     },
     "execution_count": 175,
     "metadata": {},
     "output_type": "execute_result"
    }
   ],
   "source": [
    "top_revenue = df.query('revenue_adj > revenue_adj.mean()')\n",
    "top_revenue.describe()"
   ]
  },
  {
   "cell_type": "markdown",
   "id": "7fc34605-6194-40ba-ae47-ee01b827409b",
   "metadata": {},
   "source": [
    "## is there in correlation between release year and high voting chance ?\n",
    "the following graph is a simple sactterd plots you can see the releas year on x-axis and voting count on y-axis, you can see that the more we go on the way of 2015 the more voting count we have. i followed it by (fig 3) a bar chart represent this correlation.\n"
   ]
  },
  {
   "cell_type": "code",
   "execution_count": 176,
   "id": "09e36fc2-5681-424d-9f63-e14c8e570714",
   "metadata": {},
   "outputs": [
    {
     "data": {
      "image/png": "[encoded data removed]",
      "text/plain": [
       "<Figure size 432x288 with 1 Axes>"
      ]
     },
     "metadata": {},
     "output_type": "display_data"
    }
   ],
   "source": [
    "plt.scatter(df['release_year'], df['vote_count']);"
   ]
  },
  {
   "cell_type": "code",
   "execution_count": 177,
   "id": "578dc423-43bc-4c93-b7a8-c740e0ea0f06",
   "metadata": {},
   "outputs": [
    {
     "data": {
      "image/png": "[encoded data removed]",
      "text/plain": [
       "<Figure size 432x288 with 1 Axes>"
      ]
     },
     "metadata": {},
     "output_type": "display_data"
    }
   ],
   "source": [
    "plotting_selection('release_year', 'vote_count', 'Old', 'New')\n",
    "# adding details to  a bar chart\n",
    "plt.title('Average votes by release year (fig 3)')\n",
    "plt.xlabel('release year')\n",
    "plt.ylabel('Average votes');"
   ]
  },
  {
   "cell_type": "markdown",
   "id": "8bbfa394-c9e8-4a07-9434-5c265edc2ef8",
   "metadata": {},
   "source": [
    "## which genres associated with high revnue ?"
   ]
  },
  {
   "cell_type": "code",
   "execution_count": 178,
   "id": "b0d687ce-c27b-4a4c-bcba-537df66d1809",
   "metadata": {},
   "outputs": [],
   "source": [
    "high_revnue = df.query('revenue_adj > revenue_adj.mean()')\n",
    "genres_dict = {}\n",
    "for i in high_revnue['genres']:\n",
    "    for j in i:\n",
    "        if j not in genres_dict:\n",
    "            genres_dict[j] = 1\n",
    "        else:\n",
    "            genres_dict[j] +=1 "
   ]
  },
  {
   "cell_type": "code",
   "execution_count": 179,
   "id": "abdc515d-78b7-4f72-b25d-2a844ace7a32",
   "metadata": {},
   "outputs": [],
   "source": [
    "def to_1D(series):\n",
    "    return pd.Series([x for _list in series for x in _list])"
   ]
  },
  {
   "cell_type": "code",
   "execution_count": 180,
   "id": "79480a95-b88e-48e5-aded-ccbca8dd1f9c",
   "metadata": {},
   "outputs": [],
   "source": [
    "list_list = to_1D(high_revnue['genres']).value_counts()"
   ]
  },
  {
   "cell_type": "code",
   "execution_count": 181,
   "id": "1d40c15d-96f8-416e-a9e2-3906e9109a14",
   "metadata": {},
   "outputs": [
    {
     "data": {
      "image/png": "[encoded data removed]",
      "text/plain": [
       "<Figure size 1008x648 with 1 Axes>"
      ]
     },
     "metadata": {},
     "output_type": "display_data"
    }
   ],
   "source": [
    "#creating numpy array to plotting\n",
    "\n",
    "ind = np.arange(len(to_1D(high_revnue['genres']).value_counts()))\n",
    "width = 0.4\n",
    "\n",
    "# plotting \n",
    "plt.bar(ind, list_list, width, label= list_list.index)\n",
    "\n",
    "\n",
    "# title and labels\n",
    "plt.ylabel('geners')\n",
    "plt.xlabel('count')\n",
    "plt.title('count of most revenued geners (fig 4)')\n",
    "locations = ind + width / 2  # xtick locations\n",
    "labels = list_list.index  # xtick labels\n",
    "plt.xticks(locations, labels);\n",
    "\n",
    "#adjustment\n",
    "plt.xticks(rotation=90)\n",
    "fig = plt.gcf()\n",
    "fig.set_size_inches(14, 9)\n",
    "plt.rcParams.update({'font.size': 12})"
   ]
  },
  {
   "cell_type": "markdown",
   "id": "b3aa41e2-096d-4d55-9007-e8e8ba206cf2",
   "metadata": {},
   "source": [
    "## Conclusions"
   ]
  },
  {
   "cell_type": "markdown",
   "id": "2d47bc79-930d-4097-aa0c-3fe8c3fd00eb",
   "metadata": {},
   "source": [
    "it seems to be that movies which has high revenue has some characteristics:-  \n",
    "\n",
    "it **costs more**, the more you spend **may** lead to high revenue as seen in *(fig 2)* the gap is very obvious.\n",
    "\n",
    "people seems to **like newest movies** than oldest as seen in *(fig 3)* and when we look at statistics most high revenue movies fall in 1994 to 2010 section and the look of scatter plot of years vs vote count you can detect that people like to review and vote for new movies \n",
    "\n",
    "according to *(fig 4)* its looks like people has more interest in **Action movies** than western or history movies. we can do the same steps to see which company and which cast has high revenue."
   ]
  },
  {
   "cell_type": "markdown",
   "id": "7c703638-5f00-47d7-af19-1b7abc94fd04",
   "metadata": {},
   "source": [
    "### Limitations \n"
   ]
  },
  {
   "cell_type": "markdown",
   "id": "d783de54-fa3a-4bf7-b19a-a77825ef4adc",
   "metadata": {},
   "source": [
    "this statics has few statical operations so the Conclusion is primative we can use it as a guide fore more investigations, but i found a lot of zero revenue movies which limits my data as by cleaning it i lost more than half which lead to no sufficient analysis as those delete was more from old movies . data entery in cast and compny, ...etc , has a weird manner which concume more time to clean it to be useful. "
   ]
  },
  {
   "cell_type": "code",
   "execution_count": null,
   "id": "3d97ee55-a0bd-4705-a345-c32342ec4a4a",
   "metadata": {},
   "outputs": [],
   "source": []
  }
 ],
 "metadata": {
  "kernelspec": {
   "display_name": "Python 3 (ipykernel)",
   "language": "python",
   "name": "python3"
  },
  "language_info": {
   "codemirror_mode": {
    "name": "ipython",
    "version": 3
   },
   "file_extension": ".py",
   "mimetype": "text/x-python",
   "name": "python",
   "nbconvert_exporter": "python",
   "pygments_lexer": "ipython3",
   "version": "3.8.11"
  }
 },
 "nbformat": 4,
 "nbformat_minor": 5
}
